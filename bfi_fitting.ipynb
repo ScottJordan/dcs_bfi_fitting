{
 "cells": [
  {
   "cell_type": "code",
   "execution_count": 1,
   "metadata": {},
   "outputs": [],
   "source": [
    "using DataFrames\n",
    "using CSV\n",
    "using Statistics\n",
    "using NLopt\n",
    "using Zygote"
   ]
  },
  {
   "cell_type": "code",
   "execution_count": 2,
   "metadata": {},
   "outputs": [
    {
     "data": {
      "text/plain": [
       "load_data (generic function with 1 method)"
      ]
     },
     "execution_count": 2,
     "metadata": {},
     "output_type": "execute_result"
    }
   ],
   "source": [
    "function load_data(data_file, mu_file)\n",
    "    start_row = 3\n",
    "    num_rows_per_read = 128\n",
    "    dev_data = CSV.read(data_file, header=1,\n",
    "                    type=Float64, comment=\"CPS\", ignoreemptylines=true, normalizenames=true);\n",
    "    dev_data = dropmissing(dev_data)[:, 1:5];\n",
    "    mu_data = CSV.read(mu_file, header=1, datarow=3,\n",
    "                type=Float64, ignoreemptylines=true, normalizenames=true);\n",
    "    # mu_data = dropmissing(mu_data)[:, 1:2];\n",
    "    return dev_data, mu_data\n",
    "end"
   ]
  },
  {
   "cell_type": "code",
   "execution_count": 3,
   "metadata": {},
   "outputs": [
    {
     "data": {
      "text/plain": [
       "compute_g2fit (generic function with 1 method)"
      ]
     },
     "execution_count": 3,
     "metadata": {},
     "output_type": "execute_result"
    }
   ],
   "source": [
    "function compute_C1(μa, μs)\n",
    "    return 3 * μa * μs\n",
    "end\n",
    "\n",
    "function compute_C2(μs, k0)\n",
    "    return 6 * μs^2 * k0^2\n",
    "end\n",
    "\n",
    "function compute_K(τ, bfi, C1, C2)\n",
    "    return √(C1+(C2*bfi*τ))\n",
    "end\n",
    "\n",
    "function compute_g2avg(df)\n",
    "    col_names = [:Detector_1_Correlation, :Detector_2_Correlation, :Detector_3_Correlation, :Detector_4_Correlation]\n",
    "    return map(mean, eachrow(df[:, col_names]))\n",
    "end\n",
    "\n",
    "function compute_g2fit(τ, β, bfi, r, C1, C2)\n",
    "    K = compute_K(τ, bfi, C1, C2)\n",
    "    return 1 + β * (exp(-r * K) / exp(-r * √C1))^2\n",
    "end\n"
   ]
  },
  {
   "cell_type": "markdown",
   "metadata": {},
   "source": [
    "bfi and β are varibles to be fit. bfi < 1*10^-6, 0 < β < 1\n",
    "\n",
    "const k0 = 73919.8530152287\n",
    "\n",
    "const r = 2.40;"
   ]
  },
  {
   "cell_type": "code",
   "execution_count": 4,
   "metadata": {},
   "outputs": [
    {
     "data": {
      "text/plain": [
       "sumsqrerror (generic function with 1 method)"
      ]
     },
     "execution_count": 4,
     "metadata": {},
     "output_type": "execute_result"
    }
   ],
   "source": [
    "function sqr_error(β, bfi, g2avg, τ, r, C1, C2)\n",
    "    #bfi10 = 10^bfi\n",
    "    bfi10 = bfi\n",
    "    g2 = compute_g2fit(τ, β, bfi10, r, C1, C2)\n",
    "    error = g2avg - g2\n",
    "    return error^2\n",
    "end\n",
    "\n",
    "function sumsqrerror(x, grad, g2avg, τ, r, C1, C2)\n",
    "    f(x) = sum(sqr_error.(x[1], x[2], g2avg, τ, r, C1, C2))\n",
    "    grad .= (gradient(x) do x\n",
    "            Zygote.forwarddiff(x) do x\n",
    "                f(x)\n",
    "            end\n",
    "            end)[1]\n",
    "    #grad .= gradient(f, x)[1]  # this was slow many more allocations\n",
    "    return f(x)\n",
    "end"
   ]
  },
  {
   "cell_type": "code",
   "execution_count": 5,
   "metadata": {},
   "outputs": [
    {
     "data": {
      "text/plain": [
       "fitdata (generic function with 1 method)"
      ]
     },
     "execution_count": 5,
     "metadata": {},
     "output_type": "execute_result"
    }
   ],
   "source": [
    "function fitdata(tau, g2avg, μa, μs)\n",
    "    k0 = 73919.8530152287\n",
    "    r = 2.40\n",
    "    \n",
    "    C1 = compute_C1(μa, μs)\n",
    "    C2 = compute_C2(μs, k0)  \n",
    "    \n",
    "    \n",
    "    x = zeros(2)\n",
    "    x .= [0.5, 1e-9]\n",
    "    \n",
    "    opt = Opt(:LD_MMA, length(x))\n",
    "    \n",
    "    f(x,g) = sumsqrerror(x, g, g2avg, tau, r, C1, C2)\n",
    "    opt.lower_bounds = [0, 0]\n",
    "    opt.upper_bounds = [1, 1e-6]\n",
    "    \n",
    "    opt.ftol_abs = 1e-15\n",
    "    \n",
    "    opt.min_objective = f\n",
    "    (minf, minx, ret) = optimize(opt, x)\n",
    "    numevals = opt.numevals  # number of function evaluations\n",
    "    #println(\"Sum squared error $minf after $numevals iterations (returned $ret)\")\n",
    "    #println(\"beta: $(minx[1]) bfi: $(minx[2])\")\n",
    "    return minf, minx\n",
    "end"
   ]
  },
  {
   "cell_type": "code",
   "execution_count": 6,
   "metadata": {},
   "outputs": [
    {
     "data": {
      "text/plain": [
       "get_patient_params (generic function with 1 method)"
      ]
     },
     "execution_count": 6,
     "metadata": {},
     "output_type": "execute_result"
    }
   ],
   "source": [
    "function get_patient_params(dev_data, mu_data, num_rows_per_read)\n",
    "    results = []\n",
    "    for i in 1:convert(Int64, size(dev_data,1) / num_rows_per_read)\n",
    "        μa, μs = mu_data[i, :mA], mu_data[i, :mS]\n",
    "        start = 1 + (i-1) * num_rows_per_read\n",
    "        last = i * num_rows_per_read\n",
    "\n",
    "        g2avg = compute_g2avg(dev_data[start:last, :])\n",
    "        tau = dev_data[start:last, :Time];\n",
    "        minf, minx = fitdata(tau, g2avg, μa, μs)\n",
    "        push!(results, [minf, minx[1], minx[2]])\n",
    "    end\n",
    "    results_mat = hcat(results...)'\n",
    "    return results_mat\n",
    "end"
   ]
  },
  {
   "cell_type": "code",
   "execution_count": 7,
   "metadata": {},
   "outputs": [
    {
     "data": {
      "text/plain": [
       "128"
      ]
     },
     "execution_count": 7,
     "metadata": {},
     "output_type": "execute_result"
    }
   ],
   "source": [
    "data_file = \"dev_data.csv\"\n",
    "mu_file = \"data_mA_mS.csv\"\n",
    "output_file = \"results.csv\";\n",
    "num_rows_per_read = 128"
   ]
  },
  {
   "cell_type": "code",
   "execution_count": 8,
   "metadata": {},
   "outputs": [],
   "source": [
    "dev_data, mu_data = load_data(data_file, mu_file);"
   ]
  },
  {
   "cell_type": "code",
   "execution_count": 9,
   "metadata": {},
   "outputs": [],
   "source": [
    "results_mat = get_patient_params(dev_data, mu_data, num_rows_per_read);  # takes around 3 seconds to do 2446 measurements"
   ]
  },
  {
   "cell_type": "code",
   "execution_count": 10,
   "metadata": {},
   "outputs": [
    {
     "data": {
      "text/plain": [
       "\"results.csv\""
      ]
     },
     "execution_count": 10,
     "metadata": {},
     "output_type": "execute_result"
    }
   ],
   "source": [
    "dfres = DataFrame(SSE = results_mat[:,1], Beta=results_mat[:,2], bfi=results_mat[:, 3])\n",
    "CSV.write(output_file, dfres)"
   ]
  },
  {
   "cell_type": "code",
   "execution_count": null,
   "metadata": {},
   "outputs": [],
   "source": []
  },
  {
   "cell_type": "code",
   "execution_count": null,
   "metadata": {},
   "outputs": [],
   "source": []
  },
  {
   "cell_type": "code",
   "execution_count": null,
   "metadata": {},
   "outputs": [],
   "source": []
  }
 ],
 "metadata": {
  "kernelspec": {
   "display_name": "Julia 1.4.2",
   "language": "julia",
   "name": "julia-1.4"
  },
  "language_info": {
   "file_extension": ".jl",
   "mimetype": "application/julia",
   "name": "julia",
   "version": "1.4.2"
  }
 },
 "nbformat": 4,
 "nbformat_minor": 4
}
